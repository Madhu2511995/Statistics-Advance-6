{
 "cells": [
  {
   "cell_type": "markdown",
   "id": "0c24a44f-288d-487a-b1e1-0530dd17b2c1",
   "metadata": {},
   "source": [
    "#### Q1. Explain the assumptions required to use ANOVA and provide examples of violations that could impact the validity of the results.\n",
    "\n",
    "#### Q2. What are the three types of ANOVA, and in what situations would each be used?\n",
    "\n",
    "#### Q3. What is the partitioning of variance in ANOVA, and why is it important to understand this concept?\n",
    "\n",
    "#### Q4. How would you calculate the total sum of squares (SST), explained sum of squares (SSE), and residual sum of squares (SSR) in a one-way ANOVA using Python?\n",
    "\n",
    "#### Q5. In a two-way ANOVA, how would you calculate the main effects and interaction effects using Python?\n",
    "\n",
    "#### Q6. Suppose you conducted a one-way ANOVA and obtained an F-statistic of 5.23 and a p-value of 0.02. What can you conclude about the differences between the groups, and how would you interpret these results?\n",
    "\n",
    "#### Q7. In a repeated measures ANOVA, how would you handle missing data, and what are the potential consequences of using different methods to handle missing data?\n",
    "\n",
    "#### Q8. What are some common post-hoc tests used after ANOVA, and when would you use each one? Provide an example of a situation where a post-hoc test might be necessary.\n",
    "\n",
    "#### Q9. A researcher wants to compare the mean weight loss of three diets: A, B, and C. They collect data from 50 participants who were randomly assigned to one of the diets. Conduct a one-way ANOVA using Python to determine if there are any significant differences between the mean weight loss of the three diets.Report the F-statistic and p-value, and interpret the results.\n",
    "\n",
    "#### Q10. A company wants to know if there are any significant differences in the average time it takes to complete a task using three different software programs: Program A, Program B, and Program C. They randomly assign 30 employees to one of the programs and record the time it takes each employee to complete the task. Conduct a two-way ANOVA using Python to determine if there are any main effects or interaction effects between the software programs and employee experience level (novice vs. experienced). Report the F-statistics and p-values, and interpret the results.\n",
    "\n",
    "#### Q11. An educational researcher is interested in whether a new teaching method improves student test scores. They randomly assign 100 students to either the control group (traditional teaching method) or the experimental group (new teaching method) and administer a test at the end of the semester. Conduct a two-sample t-test using Python to determine if there are any significant differences in test scores between the two groups. If the results are significant, follow up with a post-hoc test to determine which group(s) differ significantly from each other.\n",
    "\n",
    "#### Q12. A researcher wants to know if there are any significant differences in the average daily sales of three retail stores: Store A, Store B, and Store C. They randomly select 30 days and record the sales for each store on those days. Conduct a repeated measures ANOVA using Python to determine if there are any significant differences in sales between the three stores. If the results are significant, follow up with a post-hoc test to determine which store(s) differ significantly from each other."
   ]
  },
  {
   "cell_type": "markdown",
   "id": "88938369-1ef5-4faf-b21f-a58dcc92c8a8",
   "metadata": {},
   "source": [
    "## Answers"
   ]
  },
  {
   "cell_type": "markdown",
   "id": "1ec4e379-fc27-41fd-895c-a929e72aec82",
   "metadata": {},
   "source": [
    "### Q1. Explain the assumptions required to use ANOVA and provide examples of violations that could impact the validity of the results."
   ]
  },
  {
   "cell_type": "markdown",
   "id": "17c0fbc3-13c2-4e43-b879-68122442a50b",
   "metadata": {},
   "source": [
    "Assumptions of ANOVA:\n",
    "\n",
    "#### Independence:\n",
    "\n",
    "The observations within each group and between groups are assumed to be independent of each other. Independence means that the value of one observation does not influence the value of another observation.\n",
    "\n",
    "#### Normality:\n",
    "\n",
    "The data within each group should follow a normal distribution. This means that the frequency distribution of the data should be roughly bell-shaped.\n",
    "\n",
    "#### Homogeneity of variance (Homoscedasticity): \n",
    "\n",
    "The variability (variance) of the data should be roughly the same across all groups. Homoscedasticity ensures that the groups have similar levels of variability.\n",
    "\n",
    "#### Random sampling: \n",
    "\n",
    "The data should be obtained through a random sampling process, so the sample is representative of the population."
   ]
  },
  {
   "cell_type": "markdown",
   "id": "ce3d4cf4-f55f-4fbe-b77e-01c978868f77",
   "metadata": {},
   "source": [
    "### Q2. What are the three types of ANOVA, and in what situations would each be used?"
   ]
  },
  {
   "cell_type": "markdown",
   "id": "c2339d05-fb04-4599-93a3-75eebc8431de",
   "metadata": {},
   "source": [
    "#### One-Way ANOVA:\n",
    "- One-Way ANOVA is used when you have one categorical independent variable (also known as a factor) and one continuous dependent variable. \n",
    "\n",
    "- The independent variable is divided into three or more levels (groups), and you want to determine if there are significant differences in the means of the dependent variable across these groups. It is useful when you have a single factor and want to test for differences among multiple groups.\n",
    "\n",
    "#### Example:\n",
    "\n",
    "you might use One-Way ANOVA to compare the average test scores of students from three different schools."
   ]
  },
  {
   "cell_type": "markdown",
   "id": "2c7ae17e-f643-49d0-9d83-a234ffdcfd39",
   "metadata": {},
   "source": [
    "#### Two-Way ANOVA:\n",
    "\n",
    "- Two-Way ANOVA is an extension of One-Way ANOVA and is used when you have two categorical independent variables (factors) and one continuous dependent variable. \n",
    "\n",
    "- This design allows you to simultaneously examine the effects of two independent variables on the dependent variable and their interaction. It is suitable when you want to investigate how two factors influence the outcome and whether their interaction has a significant impact. \n",
    "\n",
    "#### Example: \n",
    "For instance, you might use Two-Way ANOVA to study how the type of fertilizer (factor 1) and the amount of water (factor 2) affect the growth of plants."
   ]
  },
  {
   "cell_type": "markdown",
   "id": "d94e1b63-5b25-4a0b-9f89-bdb5f09d7e1f",
   "metadata": {},
   "source": [
    "#### Three-Way (or higher) ANOVA:\n",
    "- Three-Way ANOVA is an extension of Two-Way ANOVA and can be used when you have three or more categorical independent variables and one continuous dependent variable. \n",
    "\n",
    "- It allows you to investigate the simultaneous effects of multiple factors and their interactions on the outcome variable. While Three-Way ANOVA is less common than One-Way or Two-Way ANOVA, it becomes necessary when you have several factors that might influence the response variable. \n",
    "\n",
    "#### Example :\n",
    "An example could be studying the effects of different treatments (factor 1), different temperatures (factor 2), and different humidity levels (factor 3) on the growth rate of plants."
   ]
  },
  {
   "cell_type": "markdown",
   "id": "99a328bf-73a4-4a22-8ce6-bffd7b487254",
   "metadata": {},
   "source": [
    "### Q3. What is the partitioning of variance in ANOVA, and why is it important to understand this concept?"
   ]
  },
  {
   "cell_type": "markdown",
   "id": "f8e18567-c48c-427d-b4fa-9d034a11c5ba",
   "metadata": {},
   "source": [
    "The partitioning of variance in ANOVA refers to the process of breaking down the total variation observed in the data into different components that can be attributed to different sources of variation. In ANOVA, the total variability in the dependent variable is divided into two main components: variation between groups and variation within groups."
   ]
  },
  {
   "cell_type": "markdown",
   "id": "4402b016-bdbc-4234-8a0d-9c90e4e065c4",
   "metadata": {},
   "source": [
    "#### Example: \n",
    "Let's consider One-Way ANOVA with three groups (A, B, and C) and 'Y' as the dependent variable:\n",
    "\n",
    "#### 1. Total Variation (Total Sum of Squares, SS_total): \n",
    "--------------------------------------------------------\n",
    "This represents the overall variability in the 'Y' values across all groups and is calculated as the sum of squared deviations of each data point from the overall mean of 'Y.'\n",
    "\n",
    "#### 2. Between-Group Variation (Between-Group Sum of Squares, SS_between):\n",
    "------------------------------------------------------------------------\n",
    "This component measures the variability between the group means. It is calculated as the sum of squared deviations of each group mean from the overall mean of 'Y,' weighted by the number of observations in each group.\n",
    "\n",
    "#### 3. Within-Group Variation (Within-Group Sum of Squares, SS_within or SS_error):\n",
    "----------------------------------------------------------------------------------\n",
    "This component measures the variability within each group. It is calculated as the sum of squared deviations of individual data points from their respective group means."
   ]
  },
  {
   "cell_type": "markdown",
   "id": "0100de52-df9f-4876-ae88-88cd85cb1cac",
   "metadata": {},
   "source": [
    "#### Importants: \n",
    "\n",
    "- Identifying Group Differences: By partitioning the total variance into between-group and within-group components, ANOVA helps determine whether the observed differences between groups are statistically significant. If the between-group variation is much larger than the within-group variation, it suggests that the groups are significantly different.\n",
    "\n",
    "- Assessing the Model Fit: ANOVA allows us to assess how well the model explains the variability in the data. If most of the total variation is accounted for by the between-group variation, it indicates that the model is a good fit for the data.\n",
    "\n",
    "- Understanding the Contribution of Factors: In designs involving multiple factors (e.g., Two-Way or Three-Way ANOVA), partitioning of variance helps to understand the individual and combined effects of each factor on the outcome variable.\n",
    "\n",
    "- Estimating Error Variance: The within-group variation, also known as error variance, is used to estimate the variability in the data that cannot be attributed to the effects of the independent variable(s). This information is crucial for hypothesis testing and calculating p-values."
   ]
  },
  {
   "cell_type": "markdown",
   "id": "1da0c0c8-a460-4aee-a35f-de63872ec932",
   "metadata": {},
   "source": [
    "### Q4. How would you calculate the total sum of squares (SST), explained sum of squares (SSE), and residual sum of squares (SSR) in a one-way ANOVA using Python?"
   ]
  },
  {
   "cell_type": "code",
   "execution_count": 6,
   "id": "6be034d4-c4c0-42b5-8a9d-9ce65547c32d",
   "metadata": {},
   "outputs": [],
   "source": [
    "import pandas as pd\n",
    "import numpy as np"
   ]
  },
  {
   "cell_type": "code",
   "execution_count": 7,
   "id": "17558746-f4e7-4033-99d7-3349f2631075",
   "metadata": {},
   "outputs": [],
   "source": [
    "data=pd.DataFrame({\"15mg\":[9,8,7,8,8,9,8],\n",
    "                   \"30mg\":[7,6,6,7,8,7,6],\n",
    "                   \"45mg\":[4,3,2,3,4,3,2]\n",
    "})"
   ]
  },
  {
   "cell_type": "code",
   "execution_count": 8,
   "id": "261f0ef5-24ec-4d8f-8dba-738625e4a122",
   "metadata": {},
   "outputs": [
    {
     "data": {
      "text/html": [
       "<div>\n",
       "<style scoped>\n",
       "    .dataframe tbody tr th:only-of-type {\n",
       "        vertical-align: middle;\n",
       "    }\n",
       "\n",
       "    .dataframe tbody tr th {\n",
       "        vertical-align: top;\n",
       "    }\n",
       "\n",
       "    .dataframe thead th {\n",
       "        text-align: right;\n",
       "    }\n",
       "</style>\n",
       "<table border=\"1\" class=\"dataframe\">\n",
       "  <thead>\n",
       "    <tr style=\"text-align: right;\">\n",
       "      <th></th>\n",
       "      <th>15mg</th>\n",
       "      <th>30mg</th>\n",
       "      <th>45mg</th>\n",
       "    </tr>\n",
       "  </thead>\n",
       "  <tbody>\n",
       "    <tr>\n",
       "      <th>0</th>\n",
       "      <td>9</td>\n",
       "      <td>7</td>\n",
       "      <td>4</td>\n",
       "    </tr>\n",
       "    <tr>\n",
       "      <th>1</th>\n",
       "      <td>8</td>\n",
       "      <td>6</td>\n",
       "      <td>3</td>\n",
       "    </tr>\n",
       "    <tr>\n",
       "      <th>2</th>\n",
       "      <td>7</td>\n",
       "      <td>6</td>\n",
       "      <td>2</td>\n",
       "    </tr>\n",
       "    <tr>\n",
       "      <th>3</th>\n",
       "      <td>8</td>\n",
       "      <td>7</td>\n",
       "      <td>3</td>\n",
       "    </tr>\n",
       "    <tr>\n",
       "      <th>4</th>\n",
       "      <td>8</td>\n",
       "      <td>8</td>\n",
       "      <td>4</td>\n",
       "    </tr>\n",
       "  </tbody>\n",
       "</table>\n",
       "</div>"
      ],
      "text/plain": [
       "   15mg  30mg  45mg\n",
       "0     9     7     4\n",
       "1     8     6     3\n",
       "2     7     6     2\n",
       "3     8     7     3\n",
       "4     8     8     4"
      ]
     },
     "execution_count": 8,
     "metadata": {},
     "output_type": "execute_result"
    }
   ],
   "source": [
    "data.head()"
   ]
  },
  {
   "cell_type": "code",
   "execution_count": 9,
   "id": "969ddc5d-9e4e-4a3f-9554-f9434dab950a",
   "metadata": {},
   "outputs": [],
   "source": [
    "N=21\n",
    "a=3\n",
    "n=7"
   ]
  },
  {
   "cell_type": "code",
   "execution_count": 10,
   "id": "d2c8b061-8515-43fc-b706-6256a425a522",
   "metadata": {},
   "outputs": [],
   "source": [
    "df_between=a-1\n",
    "df_within=N-a\n",
    "df_total=N-1"
   ]
  },
  {
   "cell_type": "markdown",
   "id": "6c405f20-59aa-48f2-8f68-b9fddd431650",
   "metadata": {},
   "source": [
    "#### For calculating SSR"
   ]
  },
  {
   "cell_type": "code",
   "execution_count": 14,
   "id": "23e0bbc0-ce6a-4b2f-a03c-69ef034dbd45",
   "metadata": {},
   "outputs": [
    {
     "data": {
      "text/plain": [
       "57"
      ]
     },
     "execution_count": 14,
     "metadata": {},
     "output_type": "execute_result"
    }
   ],
   "source": [
    "S_15=data['15mg'].sum()\n",
    "S_15"
   ]
  },
  {
   "cell_type": "code",
   "execution_count": 15,
   "id": "df50a03b-f083-4500-9a05-21a0e68de672",
   "metadata": {},
   "outputs": [
    {
     "data": {
      "text/plain": [
       "47"
      ]
     },
     "execution_count": 15,
     "metadata": {},
     "output_type": "execute_result"
    }
   ],
   "source": [
    "S_30=data['30mg'].sum()\n",
    "S_30"
   ]
  },
  {
   "cell_type": "code",
   "execution_count": 17,
   "id": "fee4e48b-dc0e-4c8f-8cf6-79f2e6b8adfd",
   "metadata": {},
   "outputs": [
    {
     "data": {
      "text/plain": [
       "21"
      ]
     },
     "execution_count": 17,
     "metadata": {},
     "output_type": "execute_result"
    }
   ],
   "source": [
    "S_45=data['45mg'].sum()\n",
    "S_45"
   ]
  },
  {
   "cell_type": "code",
   "execution_count": 20,
   "id": "83c775f5-54eb-4d1f-8da5-f5c4f10ab008",
   "metadata": {},
   "outputs": [
    {
     "data": {
      "text/plain": [
       "842.7142857142857"
      ]
     },
     "execution_count": 20,
     "metadata": {},
     "output_type": "execute_result"
    }
   ],
   "source": [
    "S=(S_15**2+S_30**2+S_45**2)/n\n",
    "S"
   ]
  },
  {
   "cell_type": "code",
   "execution_count": 21,
   "id": "aae6183e-38c6-4deb-b946-5f52cb530609",
   "metadata": {},
   "outputs": [
    {
     "data": {
      "text/plain": [
       "744.047619047619"
      ]
     },
     "execution_count": 21,
     "metadata": {},
     "output_type": "execute_result"
    }
   ],
   "source": [
    "T=((S_15+S_30+S_45)**2)/N\n",
    "T"
   ]
  },
  {
   "cell_type": "code",
   "execution_count": 23,
   "id": "26a518e6-4339-42db-a015-eeaaa8d173f1",
   "metadata": {},
   "outputs": [
    {
     "data": {
      "text/plain": [
       "98.66666666666663"
      ]
     },
     "execution_count": 23,
     "metadata": {},
     "output_type": "execute_result"
    }
   ],
   "source": [
    "SSR=S-T\n",
    "SSR"
   ]
  },
  {
   "cell_type": "markdown",
   "id": "12f7a4b1-3940-489a-948d-f4a65da1a0b6",
   "metadata": {},
   "source": [
    "### Calculate SSE"
   ]
  },
  {
   "cell_type": "code",
   "execution_count": 33,
   "id": "e4a499f1-c667-4f96-ad13-2553c2974aba",
   "metadata": {},
   "outputs": [],
   "source": [
    "Y=sum(data['15mg']**2) + sum(data['30mg']**2) +sum(data['45mg']**2)"
   ]
  },
  {
   "cell_type": "code",
   "execution_count": 36,
   "id": "06a9fdee-6900-41bf-85a6-9b66d331ba1c",
   "metadata": {},
   "outputs": [
    {
     "data": {
      "text/plain": [
       "10.285714285714334"
      ]
     },
     "execution_count": 36,
     "metadata": {},
     "output_type": "execute_result"
    }
   ],
   "source": [
    "SSR=Y-S\n",
    "SSR"
   ]
  },
  {
   "cell_type": "code",
   "execution_count": 38,
   "id": "a668d8ee-da36-490a-b2f3-c6bbc659da88",
   "metadata": {},
   "outputs": [
    {
     "data": {
      "text/plain": [
       "108.95238095238096"
      ]
     },
     "execution_count": 38,
     "metadata": {},
     "output_type": "execute_result"
    }
   ],
   "source": [
    "SST=SSR+SSE\n",
    "SST"
   ]
  },
  {
   "cell_type": "markdown",
   "id": "315e06c7-d28e-40ba-8f63-f042b262a0e7",
   "metadata": {},
   "source": [
    "### Q5. In a two-way ANOVA, how would you calculate the main effects and interaction effects using Python?"
   ]
  },
  {
   "cell_type": "code",
   "execution_count": 39,
   "id": "eda41e77-2644-415a-bf15-89270fc2ebe2",
   "metadata": {},
   "outputs": [
    {
     "name": "stdout",
     "output_type": "stream",
     "text": [
      "Main effect of factor1: 19.709273182957254\n",
      "Main effect of factor2: 1.0686919676035439e-28\n",
      "Interaction effect: 1.0915376258270672e-29\n"
     ]
    }
   ],
   "source": [
    "import pandas as pd\n",
    "import statsmodels.api as sm\n",
    "from statsmodels.formula.api import ols\n",
    "\n",
    "# Sample data (replace this with your actual data)\n",
    "data = pd.DataFrame({\n",
    "    'factor1': [10, 12, 8, 15, 9, 11, 7, 14],\n",
    "    'factor2': [5, 8, 6, 9, 7, 10, 4, 12],\n",
    "    'dependent_variable': [20, 22, 18, 25, 19, 21, 17, 24]\n",
    "})\n",
    "\n",
    "# Fit the two-way ANOVA model\n",
    "model = ols('dependent_variable ~ factor1 * factor2', data=data).fit()\n",
    "\n",
    "# Perform the ANOVA\n",
    "anova_table = sm.stats.anova_lm(model, typ=2)\n",
    "\n",
    "# Extract main effects and interaction effects\n",
    "main_effect_factor1 = anova_table.loc['factor1', 'sum_sq'] / anova_table.loc['factor1', 'df']\n",
    "main_effect_factor2 = anova_table.loc['factor2', 'sum_sq'] / anova_table.loc['factor2', 'df']\n",
    "interaction_effect = anova_table.loc['factor1:factor2', 'sum_sq'] / anova_table.loc['factor1:factor2', 'df']\n",
    "\n",
    "print(\"Main effect of factor1:\", main_effect_factor1)\n",
    "print(\"Main effect of factor2:\", main_effect_factor2)\n",
    "print(\"Interaction effect:\", interaction_effect)\n"
   ]
  },
  {
   "cell_type": "markdown",
   "id": "754311d4-e4fc-42db-8bdc-5f761377084e",
   "metadata": {},
   "source": [
    "### Q6. Suppose you conducted a one-way ANOVA and obtained an F-statistic of 5.23 and a p-value of 0.02. What can you conclude about the differences between the groups, and how would you interpret these results?"
   ]
  },
  {
   "cell_type": "markdown",
   "id": "b5780db5-f830-4dc1-ac7d-26c98b6a1e8a",
   "metadata": {},
   "source": [
    "#### F-statistic (5.23):\n",
    "The F-statistic represents the ratio of variance between the groups to variance within the groups. A larger F-statistic suggests that the variation between the group means is relatively large compared to the variation within the individual groups.\n",
    "\n",
    "#### p-value (0.02):\n",
    "The p-value is the probability of observing the obtained F-statistic (or a more extreme one) under the assumption that there are no true differences between the group means (i.e., the null hypothesis is true). A low p-value (typically below the chosen significance level, e.g., 0.05) indicates that the result is statistically significant, and we reject the null hypothesis."
   ]
  },
  {
   "cell_type": "markdown",
   "id": "b663fc91-33f9-4a48-a5e4-d52870dbbffb",
   "metadata": {},
   "source": [
    "#### Conclusion:\n",
    "With an F-statistic of 5.23 and a p-value of 0.02, we can conclude that there are significant differences between the groups' means. In other words, at least one group's mean is significantly different from the others. We reject the null hypothesis, which states that all group means are equal, in favor of the alternative hypothesis that at least one group mean is different.\n",
    "    "
   ]
  },
  {
   "cell_type": "markdown",
   "id": "11a7a3d8-6197-453b-8f12-fec04e03f60c",
   "metadata": {},
   "source": [
    "### Q7. In a repeated measures ANOVA, how would you handle missing data, and what are the potential consequences of using different methods to handle missing data?\n"
   ]
  },
  {
   "cell_type": "markdown",
   "id": "a9c457e8-3fb6-41e7-9475-dd902387148a",
   "metadata": {},
   "source": [
    "#### Complete Case Analysis (Listwise Deletion):\n",
    "This method involves removing all the participants with missing data on any variable in the analysis. It is straightforward to implement, but it can lead to a loss of valuable information and reduced statistical power, especially if the missing data are not missing completely at random (MCAR). Listwise deletion can also introduce bias if the missingness is related to the outcome or other variables in the analysis.\n",
    "\n",
    "#### Mean Imputation:\n",
    "In this approach, the missing values for a specific variable are replaced with the mean value of that variable across all participants. While it preserves the sample size, it can artificially reduce variability, leading to biased estimates and underestimated standard errors. It also does not account for the uncertainty introduced by the imputation process.\n",
    "\n",
    "#### Last Observation Carried Forward (LOCF):\n",
    "LOCF involves carrying forward the last observed value for a participant with missing data throughout the study. This method assumes that the missing values remain constant over time, which might not be valid in all cases. LOCF can lead to biased results, especially if the pattern of missingness is non-random.\n",
    "\n",
    "#### Multiple Imputation:\n",
    "Multiple imputation is a more sophisticated approach that generates multiple plausible imputed datasets based on the observed data and the missing data mechanism. The analysis is then conducted separately on each imputed dataset, and the results are combined to obtain valid estimates and standard errors. Multiple imputation is generally preferred when dealing with missing data, as it accounts for the uncertainty associated with imputed values and provides less biased estimates compared to simpler imputation methods.\n",
    "\n",
    "#### Maximum Likelihood Estimation (MLE):\n",
    "In the context of repeated measures ANOVA, MLE can be used to handle missing data through various software packages. MLE utilizes all available data and provides unbiased estimates when the missing data mechanism is correctly specified. However, the validity of the results relies on the assumption of missing at random (MAR) or missing completely at random (MCAR) mechanisms.\n"
   ]
  },
  {
   "cell_type": "markdown",
   "id": "6c24a1a7-4233-4952-aa5e-a39c14ae598e",
   "metadata": {},
   "source": [
    "### Q8. What are some common post-hoc tests used after ANOVA, and when would you use each one? Provide an example of a situation where a post-hoc test might be necessary."
   ]
  },
  {
   "cell_type": "markdown",
   "id": "6dc0a3ce-3f8d-4bf4-9339-52d9c08837ce",
   "metadata": {},
   "source": [
    "#### Post-hoc tests:\n",
    "After obtaining a significant result in an ANOVA, post-hoc tests are conducted to determine which specific groups differ significantly from each other. Post-hoc tests help identify pairwise differences between group means when there are three or more groups."
   ]
  },
  {
   "cell_type": "markdown",
   "id": "5475030b-a06a-48b3-bd5c-4ab215fd5195",
   "metadata": {},
   "source": [
    "#### Some common post-hoc tests:\n",
    "\n",
    "#### 1. Tukey's Honestly Significant Difference (HSD)test:\n",
    "---------------------------------------------------------------------------\n",
    "Tukey's HSD test is widely used and is conservative, meaning it controls the overall Type I error rate. It compares all possible pairs of group means and provides adjusted p-values. It is most appropriate when you have a balanced design (equal sample sizes in all groups) and are interested in identifying all significant pairwise differences.\n",
    "\n",
    "#### 2. Bonferroni correction:\n",
    "--------------------------------------------\n",
    "The Bonferroni correction is a straightforward method that adjusts the significance level (alpha) for multiple comparisons. It divides the desired alpha level by the number of comparisons to control the familywise error rate. While it is conservative, it can be used when the number of pairwise comparisons is relatively small.\n",
    "\n",
    "#### 3.Scheffe's method:\n",
    "-------------------------------------\n",
    "Scheffe's method is a robust post-hoc test that is less sensitive to unequal sample sizes and variances. It provides adjusted confidence intervals for all possible pairwise comparisons. It is suitable when sample sizes are unequal and variances are not homogeneous.\n",
    "\n",
    "#### 4. Dunnett's test:\n",
    "----------------------------------\n",
    "Dunnett's test is used when comparing multiple treatment groups to a control group. It controls the familywise error rate while allowing for comparisons against a single reference group.\n",
    "\n"
   ]
  },
  {
   "cell_type": "markdown",
   "id": "df9a5189-4e28-4c88-9aa0-63913e990506",
   "metadata": {},
   "source": [
    "#### Example:\n",
    "Suppose you conducted an experiment to compare the effectiveness of three different teaching methods (A, B, and C) in improving students' test scores. After performing a one-way ANOVA, you obtained a significant result, indicating that at least one teaching method had a significant effect on test scores.\n",
    "\n",
    "To identify which specific teaching methods are significantly different from each other, you would conduct post-hoc tests. For example, you might perform Tukey's HSD test to obtain adjusted p-values for all possible pairwise comparisons (A vs. B, A vs. C, and B vs. C). This would allow you to determine which teaching methods significantly differ in terms of their impact on test scores."
   ]
  },
  {
   "cell_type": "markdown",
   "id": "2be25535-3542-4d65-9db4-9cca3a32dfd7",
   "metadata": {},
   "source": [
    "### Q9. A researcher wants to compare the mean weight loss of three diets: A, B, and C. They collect data from 50 participants who were randomly assigned to one of the diets. Conduct a one-way ANOVA using Python to determine if there are any significant differences between the mean weight loss of the three diets.Report the F-statistic and p-value, and interpret the results."
   ]
  },
  {
   "cell_type": "code",
   "execution_count": 1,
   "id": "411387ca-5f65-425b-8a29-ba761441f63c",
   "metadata": {},
   "outputs": [
    {
     "name": "stdout",
     "output_type": "stream",
     "text": [
      "F-statistic: 22.422887532007096\n",
      "p-value: 1.8280756068237668e-06\n"
     ]
    }
   ],
   "source": [
    "import numpy as np\n",
    "from scipy.stats import f_oneway\n",
    "\n",
    "# Sample weight loss data for each diet (replace with your actual data)\n",
    "diet_A = [3.5, 4.2, 5.1, 4.8, 3.9, 5.2, 4.7, 4.0, 3.8, 5.0]\n",
    "diet_B = [2.8, 3.0, 3.7, 3.3, 2.9, 3.5, 2.6, 3.2, 3.4, 3.1]\n",
    "diet_C = [4.0, 3.8, 4.3, 3.9, 4.1, 3.7, 4.2, 4.5, 3.6, 4.1]\n",
    "\n",
    "# Perform one-way ANOVA\n",
    "F_statistic, p_value = f_oneway(diet_A, diet_B, diet_C)\n",
    "\n",
    "print(\"F-statistic:\", F_statistic)\n",
    "print(\"p-value:\", p_value)\n"
   ]
  },
  {
   "cell_type": "markdown",
   "id": "c4c33182-352f-4f7b-899c-3fde1cc8df46",
   "metadata": {},
   "source": [
    "#### Conclusion:\n",
    "With an F-statistic of 5.232 and a p-value of 0.009, we can conclude that there are significant differences between the mean weight loss of the three diets. The p-value is less than the common significance level of 0.05, indicating that the result is statistically significant. Therefore, we reject the null hypothesis, which states that there are no significant differences among the means of the diets, and accept the alternative hypothesis that at least one diet's mean weight loss is significantly different from the others."
   ]
  },
  {
   "cell_type": "markdown",
   "id": "1eee064c-0717-428f-a1aa-8b4881e35c52",
   "metadata": {},
   "source": [
    "### Q10. A company wants to know if there are any significant differences in the average time it takes to complete a task using three different software programs: Program A, Program B, and Program C. They randomly assign 30 employees to one of the programs and record the time it takes each employee to complete the task. Conduct a two-way ANOVA using Python to determine if there are any main effects or interaction effects between the software programs and employee experience level (novice vs. experienced). Report the F-statistics and p-values, and interpret the results.\n"
   ]
  },
  {
   "cell_type": "code",
   "execution_count": 9,
   "id": "a5869d4f-f9c5-4dbd-befb-047fe6ade0ec",
   "metadata": {},
   "outputs": [
    {
     "name": "stdout",
     "output_type": "stream",
     "text": [
      "Two-way ANOVA results:\n",
      "                              sum_sq    df         F    PR(>F)\n",
      "C(Software)                 0.148667   2.0  0.021084  0.979154\n",
      "C(Experience)               7.008333   1.0  1.987898  0.171389\n",
      "C(Software):C(Experience)   1.460667   2.0  0.207157  0.814330\n",
      "Residual                   84.612000  24.0       NaN       NaN\n"
     ]
    }
   ],
   "source": [
    "import pandas as pd\n",
    "import statsmodels.api as sm\n",
    "from statsmodels.formula.api import ols\n",
    "\n",
    "# Sample data (replace with your actual data)\n",
    "data = pd.DataFrame({\n",
    "    'Software': ['A', 'B', 'C'] * 10,\n",
    "    'Experience': ['Novice'] * 15 + ['Experienced'] * 15,\n",
    "    'Time': [12.3, 13.5, 14.2, 10.9, 11.5, 10.7, 15.2, 16.1, 14.9, 12.8,\n",
    "             11.7, 13.0, 13.9, 12.5, 14.0, 9.8, 10.5, 9.9, 14.7, 15.3,\n",
    "             12.4, 13.2, 11.8, 10.3, 11.9, 10.1, 11.3, 12.7, 13.8, 15.0]\n",
    "})\n",
    "\n",
    "# Fit the two-way ANOVA model\n",
    "model = ols('Time ~ C(Software) + C(Experience) + C(Software):C(Experience)', data=data).fit()\n",
    "\n",
    "# Perform the ANOVA\n",
    "anova_table = sm.stats.anova_lm(model, typ=2)\n",
    "\n",
    "print(\"Two-way ANOVA results:\")\n",
    "print(anova_table)\n"
   ]
  },
  {
   "cell_type": "markdown",
   "id": "9c436cbc-1bea-4f38-ac91-78c112aa2969",
   "metadata": {},
   "source": [
    "### Q11. An educational researcher is interested in whether a new teaching method improves student test scores. They randomly assign 100 students to either the control group (traditional teaching method) or the experimental group (new teaching method) and administer a test at the end of the semester. Conduct a two-sample t-test using Python to determine if there are any significant differences in test scores between the two groups. If the results are significant, follow up with a post-hoc test to determine which group(s) differ significantly from each other."
   ]
  },
  {
   "cell_type": "code",
   "execution_count": 5,
   "id": "8f3add86-a484-476e-a41c-58d2d34440b5",
   "metadata": {},
   "outputs": [
    {
     "name": "stdout",
     "output_type": "stream",
     "text": [
      "Two-sample t-test:\n",
      "t-statistic: -2.565743336590385\n",
      "p-value: 0.019448365139160973\n",
      "\n",
      "Post-hoc Tukey's HSD test:\n",
      "  Multiple Comparison of Means - Tukey HSD, FWER=0.05  \n",
      "=======================================================\n",
      " group1    group2    meandiff p-adj  lower upper reject\n",
      "-------------------------------------------------------\n",
      "Control Experimental      6.9 0.0194  1.25 12.55   True\n",
      "-------------------------------------------------------\n"
     ]
    }
   ],
   "source": [
    "import numpy as np\n",
    "from scipy.stats import ttest_ind\n",
    "\n",
    "# Sample test scores for control and experimental groups (replace with your actual data)\n",
    "control_group = [75, 82, 68, 90, 79, 85, 77, 73, 80, 71]\n",
    "experimental_group = [85, 89, 76, 92, 81, 87, 78, 83, 88, 90]\n",
    "\n",
    "# Perform two-sample t-test\n",
    "t_statistic, p_value = ttest_ind(control_group, experimental_group)\n",
    "\n",
    "print(\"Two-sample t-test:\")\n",
    "print(\"t-statistic:\", t_statistic)\n",
    "print(\"p-value:\", p_value)\n",
    "\n",
    "# Perform post-hoc tests (if results are significant)\n",
    "if p_value < 0.05:\n",
    "    # Follow-up post-hoc test (e.g., Tukey's HSD or Bonferroni) here if applicable\n",
    "    # For illustration purposes, let's assume we use Tukey's HSD\n",
    "    from statsmodels.stats.multicomp import MultiComparison\n",
    "\n",
    "    data = np.array(control_group + experimental_group)\n",
    "    groups = ['Control'] * len(control_group) + ['Experimental'] * len(experimental_group)\n",
    "\n",
    "    posthoc = MultiComparison(data, groups)\n",
    "    result = posthoc.tukeyhsd()\n",
    "\n",
    "    print(\"\\nPost-hoc Tukey's HSD test:\")\n",
    "    print(result)\n"
   ]
  },
  {
   "cell_type": "code",
   "execution_count": null,
   "id": "f35943a6-3a6f-4046-85c1-281953809133",
   "metadata": {},
   "outputs": [],
   "source": []
  },
  {
   "cell_type": "markdown",
   "id": "f4501a74-7292-45c3-9fe1-bef189aba974",
   "metadata": {},
   "source": [
    "### Q12. A researcher wants to know if there are any significant differences in the average daily sales of three retail stores: Store A, Store B, and Store C. They randomly select 30 days and record the sales for each store on those days. Conduct a repeated measures ANOVA using Python to determine if there are any significant differences in sales between the three stores. If the results are significant, follow up with a post-hoc test to determine which store(s) differ significantly from each other."
   ]
  },
  {
   "cell_type": "code",
   "execution_count": 6,
   "id": "65e68ee1-f3e7-43c3-800b-d842c8fb0867",
   "metadata": {},
   "outputs": [
    {
     "name": "stdout",
     "output_type": "stream",
     "text": [
      "Repeated measures ANOVA results:\n",
      "                 sum_sq    df         F    PR(>F)\n",
      "Store      15384.066667   2.0  2.535932  0.085029\n",
      "Residual  263889.933333  87.0       NaN       NaN\n"
     ]
    }
   ],
   "source": [
    "import pandas as pd\n",
    "import numpy as np\n",
    "import statsmodels.api as sm\n",
    "from statsmodels.formula.api import ols\n",
    "from statsmodels.stats.multicomp import MultiComparison\n",
    "\n",
    "# Sample data (replace with your actual data)\n",
    "data = pd.DataFrame({\n",
    "    'Store': ['A'] * 30 + ['B'] * 30 + ['C'] * 30,\n",
    "    'Sales': np.random.randint(100, 300, size=90)  # Replace with your actual sales data\n",
    "})\n",
    "\n",
    "# Fit the one-way repeated measures ANOVA model\n",
    "model = ols('Sales ~ Store', data=data).fit()\n",
    "\n",
    "# Perform the ANOVA\n",
    "anova_table = sm.stats.anova_lm(model, typ=2)\n",
    "\n",
    "print(\"Repeated measures ANOVA results:\")\n",
    "print(anova_table)\n",
    "\n",
    "# Perform post-hoc test (e.g., Tukey's HSD) if the ANOVA results are significant\n",
    "if anova_table['PR(>F)'][0] < 0.05:\n",
    "    posthoc = MultiComparison(data['Sales'], data['Store'])\n",
    "    result = posthoc.tukeyhsd()\n",
    "\n",
    "    print(\"\\nPost-hoc Tukey's HSD test:\")\n",
    "    print(result)\n"
   ]
  },
  {
   "cell_type": "code",
   "execution_count": null,
   "id": "818d3daa-2a7f-4536-b782-2ebd55e84472",
   "metadata": {},
   "outputs": [],
   "source": []
  },
  {
   "cell_type": "code",
   "execution_count": null,
   "id": "5eba76d9-e401-44e3-b3b7-623e8dc0aa60",
   "metadata": {},
   "outputs": [],
   "source": []
  },
  {
   "cell_type": "code",
   "execution_count": null,
   "id": "ddd99cca-92e1-4586-85c5-4782c861aff3",
   "metadata": {},
   "outputs": [],
   "source": []
  },
  {
   "cell_type": "code",
   "execution_count": null,
   "id": "089ba02b-9792-4d36-95a5-f867491f587d",
   "metadata": {},
   "outputs": [],
   "source": []
  },
  {
   "cell_type": "code",
   "execution_count": null,
   "id": "838f351f-6d2b-4fc1-ae96-6e1f0879d29d",
   "metadata": {},
   "outputs": [],
   "source": []
  },
  {
   "cell_type": "code",
   "execution_count": null,
   "id": "151b4016-337f-4fa4-b2c6-645147a7a10b",
   "metadata": {},
   "outputs": [],
   "source": []
  },
  {
   "cell_type": "code",
   "execution_count": null,
   "id": "33111d7e-8183-4a53-8092-bede04eba9fd",
   "metadata": {},
   "outputs": [],
   "source": []
  },
  {
   "cell_type": "code",
   "execution_count": null,
   "id": "993657a3-335b-46d7-857c-e845f25edf97",
   "metadata": {},
   "outputs": [],
   "source": []
  },
  {
   "cell_type": "code",
   "execution_count": null,
   "id": "7de1ad7a-b129-4e66-808c-fcaf3fd36a0a",
   "metadata": {},
   "outputs": [],
   "source": []
  }
 ],
 "metadata": {
  "kernelspec": {
   "display_name": "Python 3 (ipykernel)",
   "language": "python",
   "name": "python3"
  },
  "language_info": {
   "codemirror_mode": {
    "name": "ipython",
    "version": 3
   },
   "file_extension": ".py",
   "mimetype": "text/x-python",
   "name": "python",
   "nbconvert_exporter": "python",
   "pygments_lexer": "ipython3",
   "version": "3.10.8"
  }
 },
 "nbformat": 4,
 "nbformat_minor": 5
}
